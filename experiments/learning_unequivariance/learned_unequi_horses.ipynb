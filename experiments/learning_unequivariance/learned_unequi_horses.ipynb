{
 "cells": [
  {
   "cell_type": "code",
   "execution_count": 1,
   "metadata": {},
   "outputs": [],
   "source": [
    "import torch\n",
    "import numpy as np\n",
    "import sepgroupy.gconv as sepGroupConv\n",
    "import matplotlib.pyplot as plt\n",
    "from groupy.gconv.pytorch_gconv import P4ConvZ2, P4ConvP4\n",
    "import torch.nn as nn\n",
    "from sepgroupy.gconv import GroupMaxPool2d, GroupCosetMaxPool\n",
    "from groupblurpool import GroupMaxBlurPool2d\n",
    "import cv2\n",
    "import time\n",
    "from datetime import timedelta\n",
    "import torch.optim as optim\n",
    "from torchinfo import summary\n",
    "from PIL import Image\n",
    "from torchvision.transforms.functional import resize\n",
    "from scipy.ndimage.filters import gaussian_filter\n",
    "import matplotlib.gridspec as gridspec\n",
    "plt.rcParams[\"font.family\"] = \"Times New Roman\"\n",
    "plt.rcParams[\"text.usetex\"] = True"
   ]
  },
  {
   "cell_type": "code",
   "execution_count": 2,
   "metadata": {},
   "outputs": [
    {
     "data": {
      "image/png": "[encoded data removed]",
      "text/plain": [
       "<Figure size 432x288 with 1 Axes>"
      ]
     },
     "metadata": {
      "needs_background": "light"
     },
     "output_type": "display_data"
    },
    {
     "data": {
      "image/png": "[encoded data removed]",
      "text/plain": [
       "<Figure size 432x288 with 1 Axes>"
      ]
     },
     "metadata": {
      "needs_background": "light"
     },
     "output_type": "display_data"
    }
   ],
   "source": [
    "knight = np.asarray(Image.open(\"./knight.png\"))\n",
    "k = knight.copy()\n",
    "k.setflags(write=1)\n",
    "for i in range(knight.shape[0]):\n",
    "    for j in range(knight.shape[1]):\n",
    "        if knight[i][j]  == 0:\n",
    "            k[i][j] = 255\n",
    "        elif knight[i][j] == 1:\n",
    "            k[i][j] = 0\n",
    "        else:\n",
    "            k[i][j] = 6 * knight[i][j]\n",
    "k = gaussian_filter(k, sigma=0.25)\n",
    "plt.imshow(knight)\n",
    "plt.show()\n",
    "knight90 = np.rot90(knight, k=1)\n",
    "plt.imshow(knight90)\n",
    "plt.show()"
   ]
  },
  {
   "cell_type": "code",
   "execution_count": 3,
   "metadata": {},
   "outputs": [
    {
     "name": "stdout",
     "output_type": "stream",
     "text": [
      "torch.Size([2, 1, 32, 32])\n"
     ]
    }
   ],
   "source": [
    "batch_inp = torch.Tensor([[knight], [knight90]])\n",
    "labels = torch.tensor([0, 1], dtype=torch.long)\n",
    "print(batch_inp.shape)"
   ]
  },
  {
   "cell_type": "code",
   "execution_count": 4,
   "metadata": {},
   "outputs": [],
   "source": [
    "def train(model, epochs=100, printerval=10, lr=0.0001, mom=0.9, item=batch_inp):\n",
    "    criterion = nn.CrossEntropyLoss()\n",
    "    optimizer = optim.SGD(model.parameters(), lr=lr, momentum=mom)\n",
    "\n",
    "    start_time = time.time()\n",
    "    print(\"Started at: \" + time.strftime(\"%H:%M:%S\", time.localtime()))\n",
    "    for epoch in range(epochs):\n",
    "        optimizer.zero_grad()\n",
    "\n",
    "        outputs = model(item)\n",
    "        loss = criterion(outputs, labels)\n",
    "        loss.backward()\n",
    "        optimizer.step()\n",
    "\n",
    "        # print statistics\n",
    "        if epoch % printerval == 0:    # print every 2000 mini-batches\n",
    "            print(f'Epoch {epoch} - Loss = {loss.item()}')\n",
    "            model.show_filter(save=f'./epoch{epoch}_square.png')\n",
    "\n",
    "    print('Finished Training')\n",
    "    elapsed_time = time.time() - start_time\n",
    "    print('Finished Training in: ' + str(timedelta(seconds=elapsed_time))) "
   ]
  },
  {
   "cell_type": "code",
   "execution_count": 5,
   "metadata": {},
   "outputs": [],
   "source": [
    "class CustomNet(nn.Module):\n",
    "    def __init__(self, stride=2, kernel_size=3, channels=1):\n",
    "        super().__init__()\n",
    "        self.net = nn.Sequential(P4ConvZ2(1, channels, kernel_size, stride=stride, padding=1),)\n",
    "        \n",
    "        self.avgpool = nn.AdaptiveAvgPool2d((1, 1))\n",
    "        self.gcmp = GroupCosetMaxPool()\n",
    "        self.fc = nn.Linear(channels, 2)\n",
    "        self.len = len(self.net)\n",
    "    \n",
    "    def forward(self, x):\n",
    "        x = self.net(x)\n",
    "        s = x.shape\n",
    "        x = x.view((s[0], s[1] * s[2], s[3], s[4]))\n",
    "        x = self.avgpool(x)\n",
    "\n",
    "        x = x.view((s[0], s[1], s[2], 1, 1))\n",
    "        x = self.gcmp(x)\n",
    "\n",
    "        x = torch.flatten(x, 1)\n",
    "\n",
    "        x = self.fc(x)\n",
    "\n",
    "        return x\n",
    "    \n",
    "    def get_featuremap(self, x, i, pr=False):\n",
    "        net = self.net[:i]\n",
    "        if pr:\n",
    "            print(self.net[(i-1)])\n",
    "        return net(x)\n",
    "    \n",
    "    def show_filter(self, inp1=torch.Tensor([knight]), inp2=torch.Tensor([knight90]), save=None):\n",
    "        f = self.net[0].weight.data[0, 0, 0, :, :]\n",
    "        \n",
    "        fig, axs = plt.subplots(2,2)\n",
    "        #plt.tight_layout(h_pad=-2)\n",
    "        axs[0, 0].set_title('$x$')\n",
    "        axs[0, 0].set_xticks([]); axs[0, 0].set_yticks([])\n",
    "        axs[0, 0].imshow(knight, cmap='Greys')\n",
    "        \n",
    "        axs[1, 0].set_title('Filter')\n",
    "        axs[1, 0].set_xticks([]); axs[0, 1].set_yticks([])\n",
    "        axs[1, 0].imshow(f, cmap='Greys')\n",
    "\n",
    "        summed_fm = torch.sum(self.net(inp1)[0, 0], dim=0).detach().numpy()\n",
    "        axs[0, 1].imshow(summed_fm, cmap='Greys')\n",
    "        axs[0, 1].set_xticks([]); axs[1, 0].set_yticks([])\n",
    "        axs[0, 1].set_title('$f(x)$')\n",
    "        \n",
    "        summed_fm2 = np.rot90(torch.sum(self.net(inp2)[0, 0], dim=0).detach().numpy(), k=3)\n",
    "        axs[1, 1].imshow(summed_fm2, cmap='Greys')\n",
    "        axs[1, 1].set_xticks([]); axs[1, 1].set_yticks([])\n",
    "        axs[1, 1].set_title('$T^{-1}(f(T(x)))$')\n",
    "        plt.subplots_adjust(left=0.3, bottom=0.1)\n",
    "        if save is not None:\n",
    "            plt.savefig(save, dpi=400, bbox_inches='tight')\n",
    "        plt.show()\n",
    "    \n",
    "    def show_featuremap(self, inp):\n",
    "        summed_fm = torch.sum(self.net(inp)[0, 0], dim=0).detach().numpy()\n",
    "        plt.imshow(summed_fm)\n",
    "        plt.show()"
   ]
  },
  {
   "cell_type": "code",
   "execution_count": null,
   "metadata": {},
   "outputs": [
    {
     "name": "stdout",
     "output_type": "stream",
     "text": [
      "INPUT SHAPE torch.Size([2, 1, 32, 32])\n",
      "==========================================================================================\n",
      "Layer (type:depth-idx)                   Output Shape              Param #\n",
      "==========================================================================================\n",
      "CustomNet                                --                        --\n",
      "├─Sequential: 1-1                        [2, 1, 4, 16, 16]         --\n",
      "│    └─P4ConvZ2: 2-1                     [2, 1, 4, 16, 16]         10\n",
      "├─AdaptiveAvgPool2d: 1-2                 [2, 4, 1, 1]              --\n",
      "├─GroupCosetMaxPool: 1-3                 [2, 1, 1, 1]              --\n",
      "├─Linear: 1-4                            [2, 2]                    4\n",
      "==========================================================================================\n",
      "Total params: 14\n",
      "Trainable params: 14\n",
      "Non-trainable params: 0\n",
      "Total mult-adds (M): 0.02\n",
      "==========================================================================================\n",
      "Input size (MB): 0.01\n",
      "Forward/backward pass size (MB): 0.02\n",
      "Params size (MB): 0.00\n",
      "Estimated Total Size (MB): 0.02\n",
      "==========================================================================================\n",
      "Started at: 12:05:39\n",
      "Epoch 0 - Loss = 0.7004213333129883\n"
     ]
    },
    {
     "data": {
      "image/png": "[encoded data removed]",
      "text/plain": [
       "<Figure size 432x288 with 4 Axes>"
      ]
     },
     "metadata": {},
     "output_type": "display_data"
    },
    {
     "name": "stdout",
     "output_type": "stream",
     "text": [
      "Epoch 100 - Loss = 0.6833577156066895\n"
     ]
    },
    {
     "data": {
      "image/png": "[encoded data removed]",
      "text/plain": [
       "<Figure size 432x288 with 4 Axes>"
      ]
     },
     "metadata": {},
     "output_type": "display_data"
    },
    {
     "name": "stdout",
     "output_type": "stream",
     "text": [
      "Epoch 200 - Loss = 0.6185940504074097\n"
     ]
    },
    {
     "data": {
      "image/png": "[encoded data removed]",
      "text/plain": [
       "<Figure size 432x288 with 4 Axes>"
      ]
     },
     "metadata": {},
     "output_type": "display_data"
    },
    {
     "name": "stdout",
     "output_type": "stream",
     "text": [
      "Epoch 300 - Loss = 0.3175642490386963\n"
     ]
    },
    {
     "data": {
      "image/png": "[encoded data removed]",
      "text/plain": [
       "<Figure size 432x288 with 4 Axes>"
      ]
     },
     "metadata": {},
     "output_type": "display_data"
    },
    {
     "name": "stdout",
     "output_type": "stream",
     "text": [
      "Epoch 400 - Loss = 0.09234318137168884\n"
     ]
    }
   ],
   "source": [
    "SAMPLE = batch_inp\n",
    "model = CustomNet(stride=2, kernel_size=3, channels=1)\n",
    "print(f'INPUT SHAPE {SAMPLE.shape}')\n",
    "print(summary(model, SAMPLE.shape))\n",
    "train(model, 800, printerval=100, lr=0.001, mom=0.9, item=SAMPLE)"
   ]
  },
  {
   "cell_type": "code",
   "execution_count": null,
   "metadata": {},
   "outputs": [],
   "source": []
  }
 ],
 "metadata": {
  "kernelspec": {
   "display_name": "Python 3",
   "language": "python",
   "name": "python3"
  },
  "language_info": {
   "codemirror_mode": {
    "name": "ipython",
    "version": 3
   },
   "file_extension": ".py",
   "mimetype": "text/x-python",
   "name": "python",
   "nbconvert_exporter": "python",
   "pygments_lexer": "ipython3",
   "version": "3.7.6"
  }
 },
 "nbformat": 4,
 "nbformat_minor": 4
}
